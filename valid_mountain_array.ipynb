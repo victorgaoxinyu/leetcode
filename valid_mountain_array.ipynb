{
 "cells": [
  {
   "cell_type": "code",
   "execution_count": 15,
   "metadata": {},
   "outputs": [
    {
     "name": "stdout",
     "output_type": "stream",
     "text": [
      "2\n",
      "3\n",
      "4\n",
      "5\n",
      "6\n",
      "7\n",
      "8\n",
      "9\n",
      "10\n",
      "9 9\n",
      "True\n"
     ]
    }
   ],
   "source": [
    "def validMountainArray(arr):\n",
    "    n = len(arr)\n",
    "    if n < 3:\n",
    "        return False\n",
    "\n",
    "    idx = 1\n",
    "    last = arr[0]\n",
    "    peak = 1\n",
    "    while idx <= len(arr) - 1:\n",
    "        if last < arr[idx]:\n",
    "            last = arr[idx]\n",
    "            idx += 1\n",
    "            print(idx)\n",
    "        else:\n",
    "            peak = idx - 1\n",
    "            break\n",
    "\n",
    "    idx = len(arr) - 2\n",
    "    nxt = arr[-1]\n",
    "    bpeak = idx\n",
    "    while idx >= 0:\n",
    "        if arr[idx] > nxt:\n",
    "            nxt = arr[idx]\n",
    "            idx -= 1\n",
    "        else:\n",
    "            bpeak = idx + 1\n",
    "            break\n",
    "    \n",
    "    print(peak, bpeak)\n",
    "    \n",
    "    return peak == bpeak\n",
    "\n",
    "\n",
    "arr = [0,1,2,3,4,8,9,10,11,12,11]\n",
    "print(validMountainArray(arr))"
   ]
  },
  {
   "cell_type": "code",
   "execution_count": null,
   "metadata": {},
   "outputs": [],
   "source": []
  }
 ],
 "metadata": {
  "kernelspec": {
   "display_name": "Python 3",
   "language": "python",
   "name": "python3"
  },
  "language_info": {
   "codemirror_mode": {
    "name": "ipython",
    "version": 3
   },
   "file_extension": ".py",
   "mimetype": "text/x-python",
   "name": "python",
   "nbconvert_exporter": "python",
   "pygments_lexer": "ipython3",
   "version": "3.10.12"
  }
 },
 "nbformat": 4,
 "nbformat_minor": 2
}
