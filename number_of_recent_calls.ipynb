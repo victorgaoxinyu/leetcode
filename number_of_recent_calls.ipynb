{
 "cells": [
  {
   "cell_type": "code",
   "execution_count": 14,
   "metadata": {},
   "outputs": [
    {
     "name": "stdout",
     "output_type": "stream",
     "text": [
      "\t 1\n",
      "\t 2\n",
      "\t 3\n",
      "\t 3\n"
     ]
    }
   ],
   "source": [
    "class RecentCounter:\n",
    "\n",
    "    def __init__(self):\n",
    "        self.queue = []\n",
    "\n",
    "    def ping(self, t: int) -> int:\n",
    "        self.queue.append(t)\n",
    "\n",
    "        idx = len(self.queue) -1\n",
    "        cnt = 0\n",
    "        while t - self.queue[idx] <= 3000 and idx >=0:\n",
    "            cnt += 1\n",
    "            idx -=1\n",
    "        print(\"\\t\", cnt)\n",
    "        return cnt\n",
    "\n",
    "r = RecentCounter()\n",
    "\n",
    "for i in [1, 100, 3001, 3002]:\n",
    "    r.ping(i)\n"
   ]
  },
  {
   "cell_type": "code",
   "execution_count": null,
   "metadata": {},
   "outputs": [],
   "source": []
  }
 ],
 "metadata": {
  "kernelspec": {
   "display_name": "Python 3",
   "language": "python",
   "name": "python3"
  },
  "language_info": {
   "codemirror_mode": {
    "name": "ipython",
    "version": 3
   },
   "file_extension": ".py",
   "mimetype": "text/x-python",
   "name": "python",
   "nbconvert_exporter": "python",
   "pygments_lexer": "ipython3",
   "version": "3.10.12"
  }
 },
 "nbformat": 4,
 "nbformat_minor": 2
}
