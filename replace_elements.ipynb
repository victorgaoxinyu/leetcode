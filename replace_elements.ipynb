{
 "cells": [
  {
   "cell_type": "code",
   "execution_count": 9,
   "metadata": {},
   "outputs": [
    {
     "name": "stdout",
     "output_type": "stream",
     "text": [
      "6 1\n",
      "4 6\n",
      "5 6\n",
      "18 6\n",
      "17 18\n",
      "[18, 6, 6, 6, 1, -1]\n"
     ]
    }
   ],
   "source": [
    "def replaceElements(arr):\n",
    "\n",
    "    idx = len(arr) - 2\n",
    "    largest = arr[-1]\n",
    "    while idx >= 0:\n",
    "        print(arr[idx], largest)\n",
    "\n",
    "        if arr[idx] < largest:\n",
    "            arr[idx] = largest\n",
    "        else:\n",
    "            tmp = arr[idx]\n",
    "            arr[idx] = largest\n",
    "            largest = tmp\n",
    "        idx -= 1\n",
    "\n",
    "    arr[-1] = -1\n",
    "    return arr\n",
    "\n",
    "\n",
    "\n",
    "arr = [17,18,5,4,6,1]\n",
    "\n",
    "print(replaceElements(arr))"
   ]
  }
 ],
 "metadata": {
  "kernelspec": {
   "display_name": "Python 3",
   "language": "python",
   "name": "python3"
  },
  "language_info": {
   "codemirror_mode": {
    "name": "ipython",
    "version": 3
   },
   "file_extension": ".py",
   "mimetype": "text/x-python",
   "name": "python",
   "nbconvert_exporter": "python",
   "pygments_lexer": "ipython3",
   "version": "3.10.12"
  }
 },
 "nbformat": 4,
 "nbformat_minor": 2
}
