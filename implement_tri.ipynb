{
 "cells": [
  {
   "cell_type": "code",
   "execution_count": null,
   "metadata": {},
   "outputs": [],
   "source": [
    "# https://leetcode.com/problems/implement-trie-prefix-tree/?envType=study-plan-v2&envId=leetcode-75\n",
    "class Node:\n",
    "    def __init__(self):\n",
    "        self.children = {}\n",
    "class Trie:\n",
    "\n",
    "    def __init__(self):\n",
    "        self.root = Node()\n",
    "\n",
    "    def insert(self, word: str) -> None:\n",
    "        curr_node = self.root\n",
    "        for w in word:\n",
    "            if w not in curr_node.children:\n",
    "                curr_node.children[w] = Node()\n",
    "            curr_node = curr_node.children[w]\n",
    "\n",
    "        curr_node.children['*'] = ''\n",
    "        \n",
    "    def search(self, word: str) -> bool:\n",
    "        curr_node = self.root\n",
    "        for w in word:\n",
    "            if w not in curr_node.children:\n",
    "                return False\n",
    "            else:\n",
    "                curr_node = curr_node.children[w]\n",
    "        return '*' in curr_node.children\n",
    "\n",
    "    def startsWith(self, prefix: str) -> bool:\n",
    "        curr_node = self.root\n",
    "        for w in prefix:\n",
    "            if w not in curr_node.children:\n",
    "                return False\n",
    "            else:\n",
    "                curr_node = curr_node.children[w]\n",
    "        return True"
   ]
  }
 ],
 "metadata": {
  "language_info": {
   "name": "python"
  }
 },
 "nbformat": 4,
 "nbformat_minor": 2
}
