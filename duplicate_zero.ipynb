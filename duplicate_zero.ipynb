{
 "cells": [
  {
   "cell_type": "code",
   "execution_count": 22,
   "metadata": {},
   "outputs": [
    {
     "name": "stdout",
     "output_type": "stream",
     "text": [
      "[1, 0, 0, 2, 3, 0, 4, 5]\n",
      "[1, 0, 0, 2, 3, 0, 0, 4]\n",
      "[1, 0, 0, 2, 3, 0, 0, 4]\n"
     ]
    }
   ],
   "source": [
    "def duplicateZeros(arr):\n",
    "    idx = 0\n",
    "    while idx < len(arr):\n",
    "        if arr[idx] != 0:\n",
    "            idx+=1\n",
    "        else:\n",
    "            for m in range(len(arr)-1, idx, -1):\n",
    "                arr[m] = arr[m-1]\n",
    "            print(arr)\n",
    "            idx+=2\n",
    "    return arr\n",
    "\n",
    "arr = [1,0,2,3,0,4,5,0]\n",
    "\n",
    "print(duplicateZeros(arr))"
   ]
  }
 ],
 "metadata": {
  "kernelspec": {
   "display_name": "Python 3",
   "language": "python",
   "name": "python3"
  },
  "language_info": {
   "codemirror_mode": {
    "name": "ipython",
    "version": 3
   },
   "file_extension": ".py",
   "mimetype": "text/x-python",
   "name": "python",
   "nbconvert_exporter": "python",
   "pygments_lexer": "ipython3",
   "version": "3.10.12"
  }
 },
 "nbformat": 4,
 "nbformat_minor": 2
}
