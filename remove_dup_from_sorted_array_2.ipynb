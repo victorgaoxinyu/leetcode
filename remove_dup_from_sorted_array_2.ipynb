{
 "cells": [
  {
   "cell_type": "code",
   "execution_count": 5,
   "metadata": {},
   "outputs": [
    {
     "name": "stdout",
     "output_type": "stream",
     "text": [
      "1 1\n",
      "2 1\n"
     ]
    },
    {
     "data": {
      "text/plain": [
       "[1, 2, 2]"
      ]
     },
     "execution_count": 5,
     "metadata": {},
     "output_type": "execute_result"
    }
   ],
   "source": [
    "from typing import List\n",
    "\n",
    "def removeDuplicates(nums: List[int]) -> int:\n",
    "    ptr1 = 1\n",
    "    ptr2 = 0\n",
    "\n",
    "    while ptr1 < len(nums):\n",
    "        print(nums[ptr1], nums[ptr2])\n",
    "        if nums[ptr1] != nums[ptr2]:\n",
    "            nums[ptr2+1] = nums[ptr1]\n",
    "            ptr1 += 1\n",
    "            ptr2 += 1\n",
    "        else:\n",
    "            ptr1 += 1\n",
    "\n",
    "    return nums\n",
    "\n",
    "\n",
    "    \n",
    "\n",
    "removeDuplicates([1,1,2])\n"
   ]
  }
 ],
 "metadata": {
  "kernelspec": {
   "display_name": "Python 3",
   "language": "python",
   "name": "python3"
  },
  "language_info": {
   "codemirror_mode": {
    "name": "ipython",
    "version": 3
   },
   "file_extension": ".py",
   "mimetype": "text/x-python",
   "name": "python",
   "nbconvert_exporter": "python",
   "pygments_lexer": "ipython3",
   "version": "3.10.12"
  }
 },
 "nbformat": 4,
 "nbformat_minor": 2
}
