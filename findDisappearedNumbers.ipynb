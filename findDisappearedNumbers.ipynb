{
 "cells": [
  {
   "cell_type": "code",
   "execution_count": null,
   "metadata": {},
   "outputs": [],
   "source": [
    "def findDisappearedNumbers(nums):\n",
    "    result = []\n",
    "\n",
    "    # Mark elements as visited\n",
    "    for num in nums:\n",
    "        index = abs(num) - 1\n",
    "        nums[index] = -abs(nums[index])\n",
    "\n",
    "    print(nums)\n",
    "\n",
    "    # Identify unvisited elements\n",
    "    for i in range(len(nums)):\n",
    "        if nums[i] > 0:\n",
    "            result.append(i + 1)\n",
    "\n",
    "    return result\n",
    "\n",
    "\n",
    "nums = [4,3,2,7,8,2,3,1]\n",
    "findDisappearedNumbers(nums)"
   ]
  }
 ],
 "metadata": {
  "language_info": {
   "name": "python"
  }
 },
 "nbformat": 4,
 "nbformat_minor": 2
}
