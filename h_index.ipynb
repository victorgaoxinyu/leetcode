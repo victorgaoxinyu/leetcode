{
 "cells": [
  {
   "cell_type": "code",
   "execution_count": 16,
   "metadata": {},
   "outputs": [
    {
     "name": "stdout",
     "output_type": "stream",
     "text": [
      "[1]\n",
      "0\n",
      "1\n"
     ]
    }
   ],
   "source": [
    "from collections import Counter\n",
    "citations =[1]\n",
    "def hIndex(citations):\n",
    "    sorted_citations = sorted(citations, reverse=True)\n",
    "    print(sorted_citations)\n",
    "    for i in range(len(sorted_citations)):\n",
    "        print(i)\n",
    "        if sorted_citations[i] >= i + 1:\n",
    "            continue\n",
    "        else:\n",
    "            return i\n",
    "    return i + 1\n",
    "\n",
    "\n",
    "print(hIndex(citations))"
   ]
  }
 ],
 "metadata": {
  "kernelspec": {
   "display_name": "Python 3",
   "language": "python",
   "name": "python3"
  },
  "language_info": {
   "codemirror_mode": {
    "name": "ipython",
    "version": 3
   },
   "file_extension": ".py",
   "mimetype": "text/x-python",
   "name": "python",
   "nbconvert_exporter": "python",
   "pygments_lexer": "ipython3",
   "version": "3.8.2"
  }
 },
 "nbformat": 4,
 "nbformat_minor": 2
}
