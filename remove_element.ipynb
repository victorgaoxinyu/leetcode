{
 "cells": [
  {
   "cell_type": "code",
   "execution_count": 4,
   "metadata": {},
   "outputs": [
    {
     "name": "stdout",
     "output_type": "stream",
     "text": [
      "0 0 [0, 1, 2, 2, 3, 0, 4, 2]\n",
      "1 1 [0, 1, 2, 2, 3, 0, 4, 2]\n",
      "2 2 [0, 1, 2, 2, 3, 0, 4, 2]\n",
      "3 2 [0, 1, 2, 2, 3, 0, 4, 2]\n",
      "4 2 [0, 1, 2, 2, 3, 0, 4, 2]\n",
      "5 3 [0, 1, 3, 2, 3, 0, 4, 2]\n",
      "6 4 [0, 1, 3, 0, 3, 0, 4, 2]\n",
      "7 5 [0, 1, 3, 0, 4, 0, 4, 2]\n",
      "(5, [0, 1, 3, 0, 4, 0, 4, 2])\n"
     ]
    }
   ],
   "source": [
    "from typing import List\n",
    "\n",
    "def removeElement(nums: List[int], val: int) -> int:\n",
    "    cnt = 0\n",
    "    ptr1 = 0\n",
    "    ptr2 = 0\n",
    "    while ptr1 < len(nums):\n",
    "        print(ptr1, ptr2, nums)\n",
    "        if nums[ptr1] != val:\n",
    "            nums[ptr2] = nums[ptr1]\n",
    "            ptr1 += 1\n",
    "            ptr2 += 1\n",
    "            cnt += 1\n",
    "        else:\n",
    "            ptr1 += 1\n",
    "    return cnt, nums\n",
    "\n",
    "\n",
    "nums = [0,1,2,2,3,0,4,2]\n",
    "val = 2\n",
    "\n",
    "print(removeElement(nums, val))"
   ]
  }
 ],
 "metadata": {
  "kernelspec": {
   "display_name": "Python 3",
   "language": "python",
   "name": "python3"
  },
  "language_info": {
   "codemirror_mode": {
    "name": "ipython",
    "version": 3
   },
   "file_extension": ".py",
   "mimetype": "text/x-python",
   "name": "python",
   "nbconvert_exporter": "python",
   "pygments_lexer": "ipython3",
   "version": "3.10.12"
  }
 },
 "nbformat": 4,
 "nbformat_minor": 2
}
