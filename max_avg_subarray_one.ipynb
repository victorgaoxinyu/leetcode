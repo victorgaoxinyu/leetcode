{
 "cells": [
  {
   "cell_type": "code",
   "execution_count": 1,
   "metadata": {},
   "outputs": [
    {
     "name": "stdout",
     "output_type": "stream",
     "text": [
      "0 [1, 12, -5, -6] 0.5\n",
      "1 [12, -5, -6, 50] 12.75\n",
      "2 [-5, -6, 50, 3] 10.5\n",
      "12.75\n"
     ]
    }
   ],
   "source": [
    "from typing import List\n",
    "\n",
    "\n",
    "def findMaxAverage(nums: List[int], k: int) -> float:\n",
    "    if len(nums) <= k:\n",
    "        return sum(nums)/k\n",
    "    ptr1 = 1\n",
    "    last = sum(nums[:k])\n",
    "    maxx = last\n",
    "\n",
    "    while ptr1 < len(nums) - k + 1:\n",
    "        # print(ptr1, nums[ptr1:ptr1+k], sum(nums[ptr1:ptr1+k])/k)\n",
    "        curr = last - nums[ptr1-1] + nums[ptr1+k]\n",
    "        maxx = max(curr, maxx)\n",
    "        last = curr\n",
    "        ptr1+=1\n",
    "    \n",
    "    return maxx\n",
    "\n",
    "nums = [1,12,-5,-6,50,3]\n",
    "k = 4\n",
    "\n",
    "print(findMaxAverage(nums, k))"
   ]
  },
  {
   "cell_type": "code",
   "execution_count": 2,
   "metadata": {},
   "outputs": [
    {
     "data": {
      "text/plain": [
       "[1, 12, -5, -6]"
      ]
     },
     "execution_count": 2,
     "metadata": {},
     "output_type": "execute_result"
    }
   ],
   "source": [
    "nums[:4]"
   ]
  },
  {
   "cell_type": "code",
   "execution_count": null,
   "metadata": {},
   "outputs": [],
   "source": [
    "sum(nums[1:5])/4"
   ]
  }
 ],
 "metadata": {
  "kernelspec": {
   "display_name": "Python 3",
   "language": "python",
   "name": "python3"
  },
  "language_info": {
   "codemirror_mode": {
    "name": "ipython",
    "version": 3
   },
   "file_extension": ".py",
   "mimetype": "text/x-python",
   "name": "python",
   "nbconvert_exporter": "python",
   "pygments_lexer": "ipython3",
   "version": "3.10.12"
  }
 },
 "nbformat": 4,
 "nbformat_minor": 2
}
