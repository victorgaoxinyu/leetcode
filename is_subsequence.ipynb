{
 "cells": [
  {
   "cell_type": "code",
   "execution_count": 8,
   "metadata": {},
   "outputs": [
    {
     "name": "stdout",
     "output_type": "stream",
     "text": [
      "True\n"
     ]
    }
   ],
   "source": [
    "def isSubsequence(s: str, t: str) -> bool:\n",
    "    ptr1 = 0\n",
    "    ptr2 = 0\n",
    "\n",
    "    s = [*s]\n",
    "    t = [*t]\n",
    "\n",
    "    while ptr2 < len(t):\n",
    "        if t[ptr2] == s[ptr1]:\n",
    "            ptr1 += 1\n",
    "            ptr2 += 1\n",
    "        else:\n",
    "            ptr2 += 1\n",
    "    return ptr1 == len(s)\n",
    "\n",
    "s = \"abc\"\n",
    "t = \"ahbgdc\"\n",
    "\n",
    "print(isSubsequence(s, t))"
   ]
  },
  {
   "cell_type": "code",
   "execution_count": 9,
   "metadata": {},
   "outputs": [
    {
     "data": {
      "text/plain": [
       "True"
      ]
     },
     "execution_count": 9,
     "metadata": {},
     "output_type": "execute_result"
    }
   ],
   "source": [
    "\"\" in t"
   ]
  }
 ],
 "metadata": {
  "kernelspec": {
   "display_name": "Python 3",
   "language": "python",
   "name": "python3"
  },
  "language_info": {
   "codemirror_mode": {
    "name": "ipython",
    "version": 3
   },
   "file_extension": ".py",
   "mimetype": "text/x-python",
   "name": "python",
   "nbconvert_exporter": "python",
   "pygments_lexer": "ipython3",
   "version": "3.10.12"
  }
 },
 "nbformat": 4,
 "nbformat_minor": 2
}
